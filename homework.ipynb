{
  "cells": [
    {
      "cell_type": "markdown",
      "metadata": {
        "id": "2KrOA-XUh4OL"
      },
      "source": [
        "# Домашнее задание (Введение в машинное обучение)"
      ]
    },
    {
      "cell_type": "markdown",
      "metadata": {
        "id": "hSoPWUewh4ON"
      },
      "source": [
        "##### Заполните код в клетках для ответа на вопрос"
      ]
    },
    {
      "cell_type": "code",
      "execution_count": 2,
      "metadata": {
        "id": "uKtiUqt7h4OO"
      },
      "outputs": [],
      "source": [
        "import numpy as np\n",
        "import pandas as pd\n",
        "import matplotlib.pyplot as plt\n",
        "import seaborn as sns"
      ]
    },
    {
      "cell_type": "markdown",
      "metadata": {
        "id": "y0bnug9kh4OP"
      },
      "source": [
        "Для проверки навыков исследования данных используем датасет \"Титаник\" его описание можно прочитать на [kaggle](https://www.kaggle.com/c/titanic/data)"
      ]
    },
    {
      "cell_type": "markdown",
      "metadata": {
        "id": "0eypmRgYh4OP"
      },
      "source": [
        "Считаем данные из файла в память в виде объекта Pandas.DataFrame"
      ]
    },
    {
      "cell_type": "code",
      "execution_count": null,
      "metadata": {
        "id": "9soWPUtfh4OP"
      },
      "outputs": [
        {
          "ename": "",
          "evalue": "",
          "output_type": "error",
          "traceback": [
            "\u001b[1;31mRunning cells with '/usr/bin/python3' requires the ipykernel package.\n",
            "\u001b[1;31mRun the following command to install 'ipykernel' into the Python environment. \n",
            "\u001b[1;31mCommand: '/usr/bin/python3 -m pip install ipykernel -U --user --force-reinstall'"
          ]
        }
      ],
      "source": [
        "DATA_PATH = 'titanic_train.csv'\n",
        "df = pd.read_csv(DATA_PATH)"
      ]
    },
    {
      "cell_type": "code",
      "execution_count": null,
      "metadata": {
        "colab": {
          "base_uri": "https://localhost:8080/",
          "height": 466
        },
        "id": "D3YoL4JCh4OP",
        "outputId": "2f494663-8b74-4fd5-d090-ca6b23ea8cee"
      },
      "outputs": [
        {
          "ename": "",
          "evalue": "",
          "output_type": "error",
          "traceback": [
            "\u001b[1;31mRunning cells with '/usr/bin/python3' requires the ipykernel package.\n",
            "\u001b[1;31mRun the following command to install 'ipykernel' into the Python environment. \n",
            "\u001b[1;31mCommand: '/usr/bin/python3 -m pip install ipykernel -U --user --force-reinstall'"
          ]
        }
      ],
      "source": [
        "df.head()"
      ]
    },
    {
      "cell_type": "markdown",
      "metadata": {
        "id": "pkv_az59h4OP"
      },
      "source": [
        "##### 1. Сколько мужчин / женщин находилось на борту?"
      ]
    },
    {
      "cell_type": "markdown",
      "metadata": {
        "id": "0f5YpHeah4OP"
      },
      "source": [
        "Напишите код и правильный вариант ответа"
      ]
    },
    {
      "cell_type": "markdown",
      "metadata": {
        "id": "PQzwcj_Jh4OP"
      },
      "source": [
        "1) 412 мужчин и 479 женщин\n",
        "\n",
        "2) 314 мужчин и 577 женщин\n",
        "\n",
        "3) 479 мужчин и 412 женщин\n",
        "\n",
        "4) 577 мужчин и 314 женщин"
      ]
    },
    {
      "cell_type": "code",
      "execution_count": null,
      "metadata": {
        "colab": {
          "base_uri": "https://localhost:8080/"
        },
        "id": "2HSjMyvniXUo",
        "outputId": "b5f38f79-6812-466d-b6ac-a04240a8e4a4"
      },
      "outputs": [
        {
          "ename": "",
          "evalue": "",
          "output_type": "error",
          "traceback": [
            "\u001b[1;31mRunning cells with '/usr/bin/python3' requires the ipykernel package.\n",
            "\u001b[1;31mRun the following command to install 'ipykernel' into the Python environment. \n",
            "\u001b[1;31mCommand: '/usr/bin/python3 -m pip install ipykernel -U --user --force-reinstall'"
          ]
        }
      ],
      "source": [
        "df['Sex'].value_counts()"
      ]
    },
    {
      "cell_type": "code",
      "execution_count": null,
      "metadata": {
        "colab": {
          "base_uri": "https://localhost:8080/"
        },
        "id": "qUrtdJjlh4OQ",
        "outputId": "aa13ff44-65a0-4c3d-a899-45800cacd4bf"
      },
      "outputs": [
        {
          "ename": "",
          "evalue": "",
          "output_type": "error",
          "traceback": [
            "\u001b[1;31mRunning cells with '/usr/bin/python3' requires the ipykernel package.\n",
            "\u001b[1;31mRun the following command to install 'ipykernel' into the Python environment. \n",
            "\u001b[1;31mCommand: '/usr/bin/python3 -m pip install ipykernel -U --user --force-reinstall'"
          ]
        }
      ],
      "source": [
        "# Ваш код здесь\n",
        "df['Sex'].value_counts()\n",
        "# 314 женщин и 577 мужчин"
      ]
    },
    {
      "cell_type": "markdown",
      "metadata": {
        "id": "Gz1n8V4Zh4OQ"
      },
      "source": [
        "#####  2. Выведите распределение переменной Pclass (социально-экономический статус) и это же распределение, только для мужчин / женщин по отдельности. Сколько было мужчин 2-го класса?\n",
        "\n",
        "Напишите код и правильный вариант ответа"
      ]
    },
    {
      "cell_type": "markdown",
      "metadata": {
        "id": "VQrHM-sVh4OQ"
      },
      "source": [
        "1) 104\n",
        "\n",
        "2) 108\n",
        "\n",
        "3) 112\n",
        "\n",
        "4) 125"
      ]
    },
    {
      "cell_type": "code",
      "execution_count": null,
      "metadata": {
        "colab": {
          "base_uri": "https://localhost:8080/"
        },
        "id": "pjCr25qjh4OQ",
        "outputId": "aa9a9a9c-19a7-4e82-d9de-fcd7e807f180"
      },
      "outputs": [
        {
          "ename": "",
          "evalue": "",
          "output_type": "error",
          "traceback": [
            "\u001b[1;31mRunning cells with '/usr/bin/python3' requires the ipykernel package.\n",
            "\u001b[1;31mRun the following command to install 'ipykernel' into the Python environment. \n",
            "\u001b[1;31mCommand: '/usr/bin/python3 -m pip install ipykernel -U --user --force-reinstall'"
          ]
        }
      ],
      "source": [
        "# Ваш код здесь\n",
        "(df[(df['Sex'] == 'male') & (df['Pclass'] == 2)]).count(1)\n",
        "#length 108"
      ]
    },
    {
      "cell_type": "markdown",
      "metadata": {
        "id": "P4cYQEdTh4OQ"
      },
      "source": [
        "#####  3. Каковы медиана и стандартное отклонение платежей (Fare)?\n",
        "\n",
        "Напишите код и правильный вариант ответа"
      ]
    },
    {
      "cell_type": "markdown",
      "metadata": {
        "id": "4tZ9DPz3h4OQ"
      },
      "source": [
        "1) Медиана – 14.45, стандартное отклонение – 49.69\n",
        "\n",
        "2) Медиана – 15.1, стандартное отклонение – 12.15\n",
        "\n",
        "3) Медиана – 13.15, стандартное отклонение – 35.3\n",
        "\n",
        "4) Медиана – 17.43, стандартное отклонение – 39.1"
      ]
    },
    {
      "cell_type": "code",
      "execution_count": null,
      "metadata": {
        "colab": {
          "base_uri": "https://localhost:8080/"
        },
        "id": "lRx-mfOdh4OQ",
        "outputId": "3fdcd346-dd96-4abb-849c-b1d1d0acb2b2"
      },
      "outputs": [
        {
          "ename": "",
          "evalue": "",
          "output_type": "error",
          "traceback": [
            "\u001b[1;31mRunning cells with '/usr/bin/python3' requires the ipykernel package.\n",
            "\u001b[1;31mRun the following command to install 'ipykernel' into the Python environment. \n",
            "\u001b[1;31mCommand: '/usr/bin/python3 -m pip install ipykernel -U --user --force-reinstall'"
          ]
        }
      ],
      "source": [
        "# Ваш код здесь\n",
        "print(df['Fare'].median())\n",
        "print(df['Fare'].std())\n",
        "\n",
        "#14.45  49.69"
      ]
    },
    {
      "cell_type": "markdown",
      "metadata": {
        "id": "1oreVxqTh4OQ"
      },
      "source": [
        "##### 4. Правда ли, что люди моложе 30 лет выживали чаще, чем люди старше 60 лет? Каковы доли выживших в обеих группах?\n",
        "\n",
        "Напишите код и правильный вариант ответа"
      ]
    },
    {
      "cell_type": "markdown",
      "metadata": {
        "id": "wQWWXH97h4OQ"
      },
      "source": [
        "1) 22.7% среди молодых и 40.6% среди старых\n",
        "\n",
        "2) 40.6% среди молодых и 22.7% среди старых\n",
        "\n",
        "3) 35.3% среди молодых и 27.4% среди старых\n",
        "\n",
        "4) 27.4% среди молодых и 35.3% среди старых"
      ]
    },
    {
      "cell_type": "code",
      "execution_count": null,
      "metadata": {
        "colab": {
          "base_uri": "https://localhost:8080/"
        },
        "id": "efXtAUW_h4OR",
        "outputId": "717baaf8-b8d2-4b21-fdaf-20e5ce9d4359"
      },
      "outputs": [
        {
          "ename": "",
          "evalue": "",
          "output_type": "error",
          "traceback": [
            "\u001b[1;31mRunning cells with '/usr/bin/python3' requires the ipykernel package.\n",
            "\u001b[1;31mRun the following command to install 'ipykernel' into the Python environment. \n",
            "\u001b[1;31mCommand: '/usr/bin/python3 -m pip install ipykernel -U --user --force-reinstall'"
          ]
        }
      ],
      "source": [
        "# Ваш код здесь\n",
        "df_30 = df[(df['Age'] < 30)]\n",
        "df_60 = df[(df['Age'] > 60)]\n",
        "print(df_30['Survived'].value_counts(normalize = True))\n",
        "print(df_60['Survived'].value_counts(normalize = True))\n",
        "\n",
        "#40.6  22.7"
      ]
    },
    {
      "cell_type": "markdown",
      "metadata": {
        "id": "95RvDMuCh4OR"
      },
      "source": [
        "##### 5. Правда ли, что женщины выживали чаще мужчин? Каковы доли выживших в обеих группах?\n",
        "\n",
        "Напишите код и правильный вариант ответа"
      ]
    },
    {
      "cell_type": "markdown",
      "metadata": {
        "id": "99ARATwSh4OR"
      },
      "source": [
        "1) 30.2% среди мужчин и 46.2% среди женщин\n",
        "\n",
        "2) 35.7% среди мужчин и 74.2% среди женщин\n",
        "\n",
        "3) 21.1% среди мужчин и 46.2% среди женщин\n",
        "\n",
        "4) 18.9% среди мужчин и 74.2% среди женщин"
      ]
    },
    {
      "cell_type": "code",
      "execution_count": null,
      "metadata": {
        "colab": {
          "base_uri": "https://localhost:8080/"
        },
        "id": "_OLW6jPGh4OR",
        "outputId": "e5c2d79f-905c-4c2c-9361-e9c4cb59e30f"
      },
      "outputs": [
        {
          "ename": "",
          "evalue": "",
          "output_type": "error",
          "traceback": [
            "\u001b[1;31mRunning cells with '/usr/bin/python3' requires the ipykernel package.\n",
            "\u001b[1;31mRun the following command to install 'ipykernel' into the Python environment. \n",
            "\u001b[1;31mCommand: '/usr/bin/python3 -m pip install ipykernel -U --user --force-reinstall'"
          ]
        }
      ],
      "source": [
        "# Ваш код здесь\n",
        "df_f = df[(df['Sex'] == 'female')]\n",
        "df_m = df[(df['Sex'] == 'male')]\n",
        "print(df_f['Survived'].value_counts(normalize = True))\n",
        "print(df_m['Survived'].value_counts(normalize = True))\n",
        "\n",
        "#18.9   74.2"
      ]
    },
    {
      "cell_type": "markdown",
      "metadata": {
        "id": "N-i228Ldh4OR"
      },
      "source": [
        "##### 6. Сравните распределение стоимости билетов и возраста у спасенных и у погибших. Средний возраст погибших выше, верно?\n",
        "\n",
        "Напишите код и правильный вариант ответа"
      ]
    },
    {
      "cell_type": "markdown",
      "metadata": {
        "id": "QFc-vnmfh4OR"
      },
      "source": [
        "1. Да\n",
        "\n",
        "2. Нет\n"
      ]
    },
    {
      "cell_type": "code",
      "execution_count": null,
      "metadata": {
        "colab": {
          "base_uri": "https://localhost:8080/"
        },
        "id": "J3ZRSbRmh4OR",
        "outputId": "37ddc9ec-de28-414e-b37a-9f96510ed664"
      },
      "outputs": [
        {
          "ename": "",
          "evalue": "",
          "output_type": "error",
          "traceback": [
            "\u001b[1;31mRunning cells with '/usr/bin/python3' requires the ipykernel package.\n",
            "\u001b[1;31mRun the following command to install 'ipykernel' into the Python environment. \n",
            "\u001b[1;31mCommand: '/usr/bin/python3 -m pip install ipykernel -U --user --force-reinstall'"
          ]
        }
      ],
      "source": [
        "# Ваш код здесь\n",
        "df_alive = df[(df['Survived'] == 1)]\n",
        "df_death = df[(df['Survived'] == 0)]\n",
        "\n",
        "print('fare')\n",
        "\n",
        "print(df_alive['Fare'].value_counts(normalize = True))\n",
        "print(df_death['Fare'].value_counts(normalize = True))\n",
        "\n",
        "print('age')\n",
        "\n",
        "print(df_alive['Age'].value_counts(normalize = True))\n",
        "print(df_death['Age'].value_counts(normalize = True))\n",
        "\n",
        "print('mean_age')\n",
        "\n",
        "print(df_alive['Age'].mean())\n",
        "print(df_death['Age'].mean())\n",
        "\n",
        "#да"
      ]
    },
    {
      "cell_type": "markdown",
      "metadata": {
        "id": "TOPyHKf2h4OR"
      },
      "source": [
        "##### 7. Как отличается средний возраст мужчин / женщин в зависимости от класса обслуживания? Выберите верные утверждения:\n",
        "\n",
        "Напишите код и правильный вариант ответа"
      ]
    },
    {
      "cell_type": "markdown",
      "metadata": {
        "id": "KETKwmeoh4OR"
      },
      "source": [
        "1. В среднем мужчины 1-го класса старше 40 лет\n",
        "\n",
        "2. В среднем женщины 1-го класса старше 40 лет\n",
        "\n",
        "3. Мужчины всех классов в среднем старше женщин того же класса\n",
        "\n",
        "4. В среднем люди в 1 классе старше, чем во 2-ом, а те старше представителей 3-го класса"
      ]
    },
    {
      "cell_type": "code",
      "execution_count": null,
      "metadata": {
        "colab": {
          "base_uri": "https://localhost:8080/"
        },
        "id": "qb9SAsesh4OR",
        "outputId": "2dfd5f39-7d4a-43dd-87ba-0e5e1eeec903"
      },
      "outputs": [
        {
          "ename": "",
          "evalue": "",
          "output_type": "error",
          "traceback": [
            "\u001b[1;31mRunning cells with '/usr/bin/python3' requires the ipykernel package.\n",
            "\u001b[1;31mRun the following command to install 'ipykernel' into the Python environment. \n",
            "\u001b[1;31mCommand: '/usr/bin/python3 -m pip install ipykernel -U --user --force-reinstall'"
          ]
        }
      ],
      "source": [
        "# Ваш код здесь\n",
        "print(1)\n",
        "print('m')\n",
        "print(df_m[(df_m['Pclass'] == 1)]['Age'].mean())\n",
        "print('f')\n",
        "print(df_f[(df_f['Pclass'] == 1)]['Age'].mean())\n",
        "print('total')\n",
        "print(df[(df['Pclass'] == 1)]['Age'].mean())\n",
        "print(2)\n",
        "print('m')\n",
        "print(df_m[(df_m['Pclass'] == 2)]['Age'].mean())\n",
        "print('f')\n",
        "print(df_f[(df_f['Pclass'] == 2)]['Age'].mean())\n",
        "print('total')\n",
        "print(df[(df['Pclass'] == 2)]['Age'].mean())\n",
        "print(3)\n",
        "print('m')\n",
        "print(df_m[(df_m['Pclass'] == 3)]['Age'].mean())\n",
        "print('f')\n",
        "print(df_f[(df_f['Pclass'] == 3)]['Age'].mean())\n",
        "print('total')\n",
        "print(df[(df['Pclass'] == 3)]['Age'].mean())\n",
        "\n",
        "#1, 3, 4"
      ]
    },
    {
      "cell_type": "markdown",
      "metadata": {
        "id": "1bxocyWYh4OS"
      },
      "source": [
        "##### 8. Постройте попарные зависимости признаков Age, Fare, Pclass, Sex, SibSp, Parch, Embarked и Survived. (метод scatter_matrix Pandas или pairplot Seaborn).\n",
        "\n",
        "Напишите код и визуализируйте"
      ]
    },
    {
      "cell_type": "code",
      "execution_count": null,
      "metadata": {
        "colab": {
          "base_uri": "https://localhost:8080/",
          "height": 1000
        },
        "id": "O5sxa7v2h4OS",
        "outputId": "bd7722f3-0265-4d43-986c-26e737312647"
      },
      "outputs": [
        {
          "ename": "",
          "evalue": "",
          "output_type": "error",
          "traceback": [
            "\u001b[1;31mRunning cells with '/usr/bin/python3' requires the ipykernel package.\n",
            "\u001b[1;31mRun the following command to install 'ipykernel' into the Python environment. \n",
            "\u001b[1;31mCommand: '/usr/bin/python3 -m pip install ipykernel -U --user --force-reinstall'"
          ]
        }
      ],
      "source": [
        "# Ваш код здесь\n",
        "\n",
        "#sns.pairplot(df['Age', 'Fare', 'Pclass', 'Sex', 'SibSp', 'Parch', 'Embarked', 'Survived'])\n",
        "sb = df.drop(['PassengerId'], axis=1)\n",
        "\n",
        "\n",
        "sns.pairplot(sb)\n"
      ]
    }
  ],
  "metadata": {
    "colab": {
      "provenance": []
    },
    "kernelspec": {
      "display_name": ".venv",
      "language": "python",
      "name": "python3"
    },
    "language_info": {
      "codemirror_mode": {
        "name": "ipython",
        "version": 3
      },
      "file_extension": ".py",
      "mimetype": "text/x-python",
      "name": "python",
      "nbconvert_exporter": "python",
      "pygments_lexer": "ipython3",
      "version": "3.9.18"
    }
  },
  "nbformat": 4,
  "nbformat_minor": 0
}
